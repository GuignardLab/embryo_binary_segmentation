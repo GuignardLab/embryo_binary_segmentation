{
 "cells": [
  {
   "cell_type": "markdown",
   "id": "ed08f86b",
   "metadata": {},
   "source": [
    "# embryo_binary_segmentation Notebook"
   ]
  },
  {
   "cell_type": "code",
   "execution_count": null,
   "id": "8cd9db54",
   "metadata": {},
   "outputs": [],
   "source": [
    "from embryo_binary_segmentation import embryo_binary_segmentation"
   ]
  },
  {
   "cell_type": "code",
   "execution_count": null,
   "id": "54e5d627",
   "metadata": {},
   "outputs": [],
   "source": [
    "a = embryo_binary_segmentation(1)"
   ]
  },
  {
   "cell_type": "code",
   "execution_count": null,
   "id": "9c13606f",
   "metadata": {},
   "outputs": [],
   "source": [
    "assert a.arg == 1"
   ]
  }
 ],
 "metadata": {
  "kernelspec": {
   "display_name": "Python 3 (ipykernel)",
   "language": "python",
   "name": "python3"
  },
  "language_info": {
   "codemirror_mode": {
    "name": "ipython",
    "version": 3
   },
   "file_extension": ".py",
   "mimetype": "text/x-python",
   "name": "python",
   "nbconvert_exporter": "python",
   "pygments_lexer": "ipython3",
   "version": "3.10.5"
  }
 },
 "nbformat": 4,
 "nbformat_minor": 5
}
