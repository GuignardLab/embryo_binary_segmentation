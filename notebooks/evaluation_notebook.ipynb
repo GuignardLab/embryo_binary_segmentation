{
 "cells": [
  {
   "cell_type": "code",
   "execution_count": null,
   "id": "71c29591-054f-4ea3-a746-8da9d1a62c3a",
   "metadata": {},
   "outputs": [],
   "source": [
    "import torch\n",
    "import torch.nn as nn\n",
    "from torch.utils.data import Dataset, DataLoader"
   ]
  },
  {
   "cell_type": "code",
   "execution_count": null,
   "id": "ff60700a-d39e-4c6d-ada2-7731c3df7e70",
   "metadata": {},
   "outputs": [],
   "source": [
    "from _config import TEST_PARAMS\n",
    "import _unet_smaller\n",
    "from _evaluation import predict_with_images, plot_loss_and_time, visualize_random_pred, iou_pytorch, score_model"
   ]
  },
  {
   "cell_type": "code",
   "execution_count": null,
   "id": "64a2f33f-a768-46b1-b2ef-7b5a2dca86bf",
   "metadata": {},
   "outputs": [],
   "source": [
    "device = torch.device('cuda' if torch.cuda.is_available() else 'cpu')"
   ]
  },
  {
   "cell_type": "code",
   "execution_count": null,
   "id": "2bb1341f-ffb6-4bc8-a5cb-4129142996f3",
   "metadata": {},
   "outputs": [],
   "source": [
    "test_path, binarize, target_size, patch_size, batch_size, load_model_path, load_csv_path = TEST_PARAMS.values()"
   ]
  },
  {
   "cell_type": "code",
   "execution_count": null,
   "id": "4394fa0a-d570-4a8e-bd69-a50c5d4ba421",
   "metadata": {},
   "outputs": [],
   "source": [
    "eval_dataset = upload_data(test_path, 'val', binarize, patch_size, target_size)\n",
    "eval_loader = DataLoader(eval_dataset, batch_size=batch_size, shuffle=False)"
   ]
  },
  {
   "cell_type": "code",
   "execution_count": null,
   "id": "c15d0984-5894-4cbd-8360-eaa03fde8c89",
   "metadata": {},
   "outputs": [],
   "source": [
    "len(val_dataset)"
   ]
  },
  {
   "cell_type": "code",
   "execution_count": null,
   "id": "268c6daf-13ea-4472-8c8d-3f9a2ab4f76c",
   "metadata": {},
   "outputs": [],
   "source": [
    "unet_small = unet_smaller.UNet()\n",
    "unet_small = unet_small.to(device)"
   ]
  },
  {
   "cell_type": "markdown",
   "id": "162b13d8-dec2-4304-bde7-5d4d82aec4e7",
   "metadata": {},
   "source": [
    "## Plot training curves"
   ]
  },
  {
   "cell_type": "code",
   "execution_count": null,
   "id": "7485f913-9152-49e4-989d-7c19f396917d",
   "metadata": {},
   "outputs": [],
   "source": [
    "plot_loss_and_time(load_csv_path, 'JLM+Woon, BCE Loss')"
   ]
  },
  {
   "cell_type": "markdown",
   "id": "d1275a26-31c2-4b17-9ffe-e8da7f65b273",
   "metadata": {},
   "source": [
    "## Made predictions"
   ]
  },
  {
   "cell_type": "code",
   "execution_count": null,
   "id": "234f38d2-d1ba-4fc6-8f41-92c060328233",
   "metadata": {},
   "outputs": [],
   "source": [
    "predictions, images_batch, masks_batch = predict_with_images(unet_small, eval_loader, test_path, device)\n",
    "score = score_model(unet_small, test_path, iou_pytorch, eval_loader, device, threshold_pixel = 0.5)\n",
    "print(\"Loaded model score: \", score, '/n')"
   ]
  },
  {
   "cell_type": "markdown",
   "id": "67402c1c-aade-4fba-b5c7-863a3243aaba",
   "metadata": {},
   "source": [
    "## Visualize random predictions"
   ]
  },
  {
   "cell_type": "code",
   "execution_count": null,
   "id": "fe8a4de4-7ea0-4845-a8c1-f14a9cc40958",
   "metadata": {},
   "outputs": [],
   "source": [
    "visualize_random_pred(images_batch, masks_batch, predictions, 4, True, threshold=0.5, alpha=0.2)"
   ]
  },
  {
   "cell_type": "markdown",
   "id": "4d0ef97b-ddbb-4d97-9e2f-5de52b354f2d",
   "metadata": {},
   "source": []
  }
 ],
 "metadata": {
  "kernelspec": {
   "display_name": "Python 3 (ipykernel)",
   "language": "python",
   "name": "python3"
  },
  "language_info": {
   "codemirror_mode": {
    "name": "ipython",
    "version": 3
   },
   "file_extension": ".py",
   "mimetype": "text/x-python",
   "name": "python",
   "nbconvert_exporter": "python",
   "pygments_lexer": "ipython3",
   "version": "3.10.14"
  }
 },
 "nbformat": 4,
 "nbformat_minor": 5
}
