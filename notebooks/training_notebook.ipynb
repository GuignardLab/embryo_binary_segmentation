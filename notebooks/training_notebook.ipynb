{
 "cells": [
  {
   "cell_type": "markdown",
   "id": "ed08f86b",
   "metadata": {},
   "source": [
    "# embryo_binary_segmentation train_mouse_embryo"
   ]
  },
  {
   "cell_type": "code",
   "execution_count": null,
   "id": "8cd9db54",
   "metadata": {},
   "outputs": [],
   "source": [
    "import torch\n",
    "import torch.nn as nn\n",
    "from torch.utils.data import Dataset, DataLoader\n",
    "import torchio as tio"
   ]
  },
  {
   "cell_type": "code",
   "execution_count": null,
   "id": "e8dee05b-f514-4d93-98ac-1d61c77cd341",
   "metadata": {},
   "outputs": [],
   "source": [
    "import _unet_smaller\n",
    "from _data_load import upload_data\n",
    "from _losses import dice_loss, focal_loss\n",
    "from _config import DATA_PARAMS, FINE_TUNING, TRAINING_PARAMS\n",
    "from _train_functions import train"
   ]
  },
  {
   "cell_type": "markdown",
   "id": "968f4e74-4c5f-4493-bdbc-98127f2e2b9e",
   "metadata": {},
   "source": [
    "# Load parameters"
   ]
  },
  {
   "cell_type": "code",
   "execution_count": null,
   "id": "3fad8546-fc81-4eed-9435-0a082613bd90",
   "metadata": {},
   "outputs": [],
   "source": [
    "loss, learning_rate, batch_size, epochs, save_model_path, fine_tuning, save_each = TRAINING_PARAMS.values()"
   ]
  },
  {
   "cell_type": "code",
   "execution_count": null,
   "id": "e8a76435-47ac-4de0-a9b7-e3dcd8c3ca98",
   "metadata": {},
   "outputs": [],
   "source": [
    "data_path, binarize, target_size, patch_size, augmentations = DATA_PARAMS.values()\n",
    "\n",
    "train_folder = f\"{save_path}/Train/\"\n",
    "val_folder = f\"{save_path}/Val/\""
   ]
  },
  {
   "cell_type": "code",
   "execution_count": null,
   "id": "51d08bf1-de84-49a1-9ec2-44017fa513f4",
   "metadata": {},
   "outputs": [],
   "source": [
    "upload_model_path, old_steps = FINE_TUNING.values()"
   ]
  },
  {
   "cell_type": "code",
   "execution_count": null,
   "id": "d727898a-e388-4e3b-8c3f-4722aee38d52",
   "metadata": {},
   "outputs": [],
   "source": [
    "if loss == 'bce':\n",
    "    loss_fn = nn.BCELoss()\n",
    "elif loss == 'dice':\n",
    "    loss_fn = dice_loss\n",
    "elif loss == 'focal':\n",
    "    loss_fn = focal_loss  "
   ]
  },
  {
   "cell_type": "code",
   "execution_count": null,
   "id": "ce1d4d86-6e54-442c-82b7-70c7bf79f88a",
   "metadata": {},
   "outputs": [],
   "source": [
    "device = torch.device('cuda' if torch.cuda.is_available() else 'cpu')\n",
    "print(device, '\\n')"
   ]
  },
  {
   "cell_type": "markdown",
   "id": "703361e3-aac6-4000-bba3-a651efde3bef",
   "metadata": {},
   "source": [
    "# Upload Data"
   ]
  },
  {
   "cell_type": "code",
   "execution_count": null,
   "id": "4679369c-e707-47a4-a697-ee6826d8606d",
   "metadata": {},
   "outputs": [],
   "source": [
    "train_dataset = upload_data(train_folder, 'train', binarize, patch_size)\n",
    "print(\"Train data is loaded \\n\")"
   ]
  },
  {
   "cell_type": "code",
   "execution_count": null,
   "id": "9e4e4857-8d54-45df-963b-d8ca170e3f96",
   "metadata": {},
   "outputs": [],
   "source": [
    "val_dataset = upload_data(val_folder, 'val', binarize, patch_size)\n",
    "print(\"Validation data is loaded \\n\")"
   ]
  },
  {
   "cell_type": "code",
   "execution_count": null,
   "id": "939250c2-d0a1-4df4-941a-d8b0ff871eab",
   "metadata": {},
   "outputs": [],
   "source": [
    "if augmentations:\n",
    "    spatial = tio.OneOf({\n",
    "        tio.RandomElasticDeformation(num_control_points=(6, 6, 8), locked_borders=2, max_displacement=(16, 16, 2)): 0.1,\n",
    "        tio.RandomAffine(scales=(1, 1.05), degrees=5): 0.2,\n",
    "        tio.RandomFlip(axes=('LR',)): 0.1,\n",
    "        tio.RandomGhosting(): 0.2,\n",
    "        tio.RandomBiasField():0.1,\n",
    "        tio.RandomNoise(): 0.1\n",
    "                        },\n",
    "        p=0.8,)\n",
    "\n",
    "    subjects_dataset = tio.SubjectsDataset(train_dataset, transform=spatial)\n",
    "\n",
    "    val_loader = DataLoader(val_dataset, batch_size=batch_size, shuffle=True)\n",
    "    train_loader = DataLoader(subjects_dataset, batch_size=batch_size, shuffle=True)\n",
    "\n",
    "else:\n",
    "    val_loader = DataLoader(val_dataset, batch_size=batch_size, shuffle=True)\n",
    "    train_loader = DataLoader(train_dataset, batch_size=batch_size, shuffle=True)\n",
    "\n",
    "\n",
    "print(\"Dataloaders are created \\n\")"
   ]
  },
  {
   "cell_type": "markdown",
   "id": "86efed63-adf7-4c13-a12b-98072512ea81",
   "metadata": {},
   "source": [
    "# Train"
   ]
  },
  {
   "cell_type": "code",
   "execution_count": null,
   "id": "1a513608-0910-44dc-acfc-fd43f5e38305",
   "metadata": {},
   "outputs": [],
   "source": [
    "unet_small = unet_smaller.UNet()\n",
    "unet_small = unet_small.to(device)\n",
    "optim = torch.optim.SGD(unet_small.parameters(), lr=learning_rate)"
   ]
  },
  {
   "cell_type": "code",
   "execution_count": null,
   "id": "b34afe31-c8f3-4cf5-b657-bddfc01e3cb7",
   "metadata": {},
   "outputs": [],
   "source": [
    "min_val_loss, best_epoch = train(unet_small, optim, loss_fn, epochs, train_loader, val_loader, save_model_path, upload_path, old_steps, save_each)"
   ]
  },
  {
   "cell_type": "code",
   "execution_count": null,
   "id": "f6605210-f8f6-400a-b7bc-96cb66813989",
   "metadata": {},
   "outputs": [],
   "source": [
    "print(f\"Best epoch: {best_epoch}, Min Validation Loss: {min_val_loss}\")"
   ]
  },
  {
   "cell_type": "code",
   "execution_count": null,
   "id": "adb54e00-293b-42bb-8f10-6fa97bc18914",
   "metadata": {},
   "outputs": [],
   "source": [
    "del unet_small\n",
    "torch.cuda.empty_cache()"
   ]
  }
 ],
 "metadata": {
  "kernelspec": {
   "display_name": "Python 3 (ipykernel)",
   "language": "python",
   "name": "python3"
  },
  "language_info": {
   "codemirror_mode": {
    "name": "ipython",
    "version": 3
   },
   "file_extension": ".py",
   "mimetype": "text/x-python",
   "name": "python",
   "nbconvert_exporter": "python",
   "pygments_lexer": "ipython3",
   "version": "3.10.14"
  }
 },
 "nbformat": 4,
 "nbformat_minor": 5
}
